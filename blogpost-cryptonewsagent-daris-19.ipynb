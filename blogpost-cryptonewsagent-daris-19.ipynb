{
 "cells": [
  {
   "cell_type": "markdown",
   "id": "9325c699",
   "metadata": {
    "_cell_guid": "6cb436e5-f248-4f0d-85fc-caf9cd4b1209",
    "_uuid": "16626e54-5326-4c50-b5af-cd932b099bff",
    "collapsed": false,
    "jupyter": {
     "outputs_hidden": false
    },
    "papermill": {
     "duration": 0.004573,
     "end_time": "2025-04-15T01:58:29.603953",
     "exception": false,
     "start_time": "2025-04-15T01:58:29.599380",
     "status": "completed"
    },
    "tags": []
   },
   "source": [
    "# Real-Time Crypto News Agent: Detecting Market Sentiment with GenAI\n",
    "\n",
    "> This GenAI agent reads crypto news in real-time and summarizes market sentiment — so you can make smarter trades, faster.\n",
    "\n",
    "![Banner](../input/crypto-news-agent-visuals/Crypto%20Banner_001.jpg)\n",
    "\n",
    "**👥 Team SAGE (Sentiment Agents for Global Events)**   \n",
    "[Delia](https://www.kaggle.com/deliag18) (Project Lead, Data Engineer) ·  \n",
    "[Adina](https://www.kaggle.com/adinakanapina) (Prompt Engineer) ·  \n",
    "[Raveeja](https://www.kaggle.com/raveejad) (ML Ops) ·  \n",
    "[Sherline](https://www.kaggle.com/sherlineherold) (Technical Writer)\n",
    "\n",
    "April 2025 | [GenAI Intensive Course with Google & Kaggle](https://www.kaggle.com/competitions/gen-ai-intensive-course-capstone-2025q1)"
   ]
  },
  {
   "cell_type": "markdown",
   "id": "11eb873c",
   "metadata": {
    "_cell_guid": "329774ff-3809-4905-a6ec-fe265c7673d5",
    "_uuid": "379aba4a-b155-451a-86b9-a8f45a4eadeb",
    "collapsed": false,
    "jupyter": {
     "outputs_hidden": false
    },
    "papermill": {
     "duration": 0.003587,
     "end_time": "2025-04-15T01:58:29.611418",
     "exception": false,
     "start_time": "2025-04-15T01:58:29.607831",
     "status": "completed"
    },
    "tags": []
   },
   "source": [
    "## Project Hook: Why We Built This\n",
    "\n",
    "> \"Imagine your crypto dashboard came with a whispering AI analyst that could sense market mood shifts before your portfolio feels it.\"\n",
    ">\n",
    "In the fast-moving world of crypto, staying ahead of market sentiment can feel overwhelming—especially for first-time or busy investors.  \n",
    "\n",
    "That’s why we created a **real-time crypto news agent** that acts like your personal AI analyst. It automatically scans the latest headlines, reads the emotional tone behind the news, and delivers quick, digestible summaries with visual insights.  \n",
    "\n",
    "Whether you’re checking in between meetings or making your first trade, our tool helps you cut through the noise and make informed decisions—faster.\n",
    "\n",
    "Our team set out to build an intelligent news agent that:\n",
    "- **Scans** the latest crypto headlines\n",
    "- **Analyzes sentiment** in real-time\n",
    "- **Summarizes news** with natural language\n",
    "- **Visualizes market insights** for daily decision-making"
   ]
  },
  {
   "cell_type": "markdown",
   "id": "359d9847",
   "metadata": {
    "_cell_guid": "5276e9f6-e02a-426c-8e3a-9a749cbb71eb",
    "_uuid": "1375a084-b398-4896-9111-0578ee758ffd",
    "collapsed": false,
    "jupyter": {
     "outputs_hidden": false
    },
    "papermill": {
     "duration": 0.003385,
     "end_time": "2025-04-15T01:58:29.618281",
     "exception": false,
     "start_time": "2025-04-15T01:58:29.614896",
     "status": "completed"
    },
    "tags": []
   },
   "source": [
    "## 📊 Bitcoin Price Trend with 7-Day Moving Average\n",
    "\n",
    "![7-Day Moving Average](../input/cryptonews/7-Day Moving Average.jpeg)\n",
    "\n",
    "\n",
    "This line graph visualizes the daily closing price of Bitcoin from **March 25 to April 8, 2025**, alongside a **7-day moving average** (orange dashed line). The moving average helps smooth out short-term price fluctuations and highlights broader trends.\n",
    "\n",
    "**Key Insights:**\n",
    "- BTC price rose steadily from ~$70,000 to a peak of ~$84,000.\n",
    "- A sharp decline occurred around **April 5**, signaling a market shift or external event.\n",
    "- The moving average maintained an upward trend, suggesting sustained bullish sentiment prior to the dip.\n",
    "\n",
    "> 💡 *Code snippet used to generate this chart added below.*"
   ]
  },
  {
   "cell_type": "markdown",
   "id": "f1394065",
   "metadata": {
    "_cell_guid": "ec5e07a3-2abf-4570-94d6-88495ad525b1",
    "_uuid": "ec3312cc-3f65-41c2-b473-4670a382bcec",
    "collapsed": false,
    "jupyter": {
     "outputs_hidden": false
    },
    "papermill": {
     "duration": 0.003356,
     "end_time": "2025-04-15T01:58:29.625188",
     "exception": false,
     "start_time": "2025-04-15T01:58:29.621832",
     "status": "completed"
    },
    "tags": []
   },
   "source": [
    "## 📊 BTC Daily Return vs. Volatility?\n",
    "\n",
    "![BTC Daily Return vs Volatility](https://www.kaggle.com/datasets/sherlineherold/cryptonews?select=BTC+Daily+Return+vs+Volatility.jpeg)\n",
    "\n",
    "This dual-axis graph compares **daily return percentage** (blue line, left Y-axis) with **rolling volatility** (red dashed line, right Y-axis) over time.\n",
    "\n",
    "**What This Tells Us:**\n",
    "- BTC saw mostly positive returns until a major dip on **April 5** (nearly -6%).\n",
    "- Volatility spiked sharply afterward, peaking at **3.6**, suggesting increased market uncertainty.\n",
    "- This view is essential for assessing both profitability and risk levels in crypto trading.\n",
    "\n",
    "> 💡 *Code used to compute and visualize these metrics will be included below.*"
   ]
  },
  {
   "cell_type": "markdown",
   "id": "4a6e9ffa",
   "metadata": {
    "_cell_guid": "1e40b9f1-1bf2-492d-ba40-c2cb1be6ab1c",
    "_uuid": "b5cff8ff-34d0-4f6c-953e-5a3d8cf5f373",
    "collapsed": false,
    "jupyter": {
     "outputs_hidden": false
    },
    "papermill": {
     "duration": 0.003464,
     "end_time": "2025-04-15T01:58:29.632158",
     "exception": false,
     "start_time": "2025-04-15T01:58:29.628694",
     "status": "completed"
    },
    "tags": []
   },
   "source": [
    "## 📊 Sentiment Classification of Crypto News Headlines\n",
    "\n",
    "![Crypto News Sentiment](https://www.kaggle.com/datasets/sherlineherold/cryptonews?select=Sentiment+Classification.jpeg)\n",
    "\n",
    "This horizontal bar chart shows how major crypto news headlines were classified by sentiment: **Positive (green), Negative (orange), and Neutral (blue)**.\n",
    "\n",
    "**📊 Observations:**\n",
    "- News with words like \"bloodbath,\" \"plunge,\" or \"crash\" dominated the **Negative** sentiment group.\n",
    "- Only a few stories showed optimism (e.g., altcoin season or new technology trends).\n",
    "- Understanding headline sentiment helps contextualize market behavior and identify emotional drivers of price movement.\n",
    "\n",
    "> 💡 *This analysis was powered by NLP tools like VADER, TextBlob, and RoBERTa.*"
   ]
  },
  {
   "cell_type": "markdown",
   "id": "e8e965a5",
   "metadata": {
    "_cell_guid": "31d64749-2a64-4c6d-b898-4ef364d44afb",
    "_uuid": "919319ee-0685-4cb7-a247-46070e5caf72",
    "collapsed": false,
    "jupyter": {
     "outputs_hidden": false
    },
    "papermill": {
     "duration": 0.00331,
     "end_time": "2025-04-15T01:58:29.638960",
     "exception": false,
     "start_time": "2025-04-15T01:58:29.635650",
     "status": "completed"
    },
    "tags": []
   },
   "source": [
    "## 📊 Beginner-Friendly GenAI Capabilities\n",
    "\n",
    "| **Capability** | **Tools Used** | **Beginner-Friendly Explanation** |\n",
    "|----------------|----------------|-----------------------------------|\n",
    "| **Structured Output / JSON Mode** | Gemini, Jupyter Notebook | AI gives answers in a fixed, readable format — like filling out a form. JSON organizes info neatly. |\n",
    "| **Few-shot Prompting** | Gemini | Give AI a few examples before asking it to solve something — like showing a student math problems first. |\n",
    "| **Document Understanding** | Gemini, NewsData.io API | AI reads a document and figures out what it's about — who it's from, what it says, etc. |\n",
    "| **Image Understanding** | N/A | AI looks at a picture and describes what it sees — like “a dog in a park.” |\n",
    "| **Video Understanding** | N/A | AI watches a video and explains what’s happening — like “a person walking into a store.” |\n",
    "| **Audio Understanding** | N/A | AI listens to sound (like voice or music) and understands what’s being said — e.g., speech-to-text. |\n",
    "| **Function Calling** | LangChain, Gemini, FAISS | AI can use tools — like asking a calendar to schedule a meeting or calling an API. |\n",
    "| **Agents** | LangChain, FAISS, Gemini | A smart assistant made of AI tools that can plan tasks and carry them out — like a digital helper. |\n",
    "| **Long Context Window** | Gemini | AI can “remember” more at once — helpful for understanding long documents or chats. |\n",
    "| **Context Caching** | LangChain | Saves earlier conversation parts so AI doesn’t forget or reprocess them. |\n",
    "| **GenAI Evaluation** | Gemini, TextBlob | Tests how well the AI is doing — helpfulness, accuracy, or safety. |\n",
    "| **Grounding** | FAISS, LangChain | Makes sure AI’s answers are based on real, factual information. |\n",
    "| **Embeddings** | HuggingFace, FAISS | Turns words into numbers so AI can understand meaning and find similar things. |\n",
    "| **Retrieval-Augmented Generation (RAG)** | LangChain, FAISS, Gemini | AI looks up real documents before answering — like open-book homework. |\n",
    "| **Vector Search / Store / Database** | FAISS, LangChain | Searches by meaning (not just keywords) using smart numerical representations. |\n",
    "| **MLOps (with GenAI)** | Python, Jupyter Notebook | Tools and workflows that help build and manage AI systems efficiently. |\n"
   ]
  },
  {
   "cell_type": "markdown",
   "id": "803d1961",
   "metadata": {
    "papermill": {
     "duration": 0.00333,
     "end_time": "2025-04-15T01:58:29.645821",
     "exception": false,
     "start_time": "2025-04-15T01:58:29.642491",
     "status": "completed"
    },
    "tags": []
   },
   "source": [
    "## How We Prompted Gemini\n",
    "\n",
    "We used few-shot prompting to make sure Gemini classified crypto headlines consistently:"
   ]
  },
  {
   "cell_type": "code",
   "execution_count": 1,
   "id": "2309ac95",
   "metadata": {
    "execution": {
     "iopub.execute_input": "2025-04-15T01:58:29.654020Z",
     "iopub.status.busy": "2025-04-15T01:58:29.653756Z",
     "iopub.status.idle": "2025-04-15T01:58:29.660259Z",
     "shell.execute_reply": "2025-04-15T01:58:29.659584Z"
    },
    "papermill": {
     "duration": 0.012061,
     "end_time": "2025-04-15T01:58:29.661393",
     "exception": false,
     "start_time": "2025-04-15T01:58:29.649332",
     "status": "completed"
    },
    "tags": []
   },
   "outputs": [],
   "source": [
    "examples = [\n",
    "    \"Headline: Bitcoin surges 10% on ETF approval news. Sentiment: Positive\",\n",
    "    \"Headline: Crypto exchange faces SEC lawsuit. Sentiment: Negative\",\n",
    "    \"Headline: Ethereum holds steady amid market uncertainty. Sentiment: Neutral\"\n",
    "]\n",
    "\n",
    "new_headline = \"Bitcoin drops after major exchange outage\"\n",
    "\n",
    "prompt = \"\\n\".join(examples) + f\"\\nHeadline: {new_headline}\\nSentiment:\""
   ]
  },
  {
   "cell_type": "markdown",
   "id": "0d982ed7",
   "metadata": {
    "papermill": {
     "duration": 0.003429,
     "end_time": "2025-04-15T01:58:29.668333",
     "exception": false,
     "start_time": "2025-04-15T01:58:29.664904",
     "status": "completed"
    },
    "tags": []
   },
   "source": [
    "> 💡 This gives Gemini a few labeled examples so it knows how to respond."
   ]
  },
  {
   "cell_type": "markdown",
   "id": "2102c90d",
   "metadata": {
    "papermill": {
     "duration": 0.003338,
     "end_time": "2025-04-15T01:58:29.675216",
     "exception": false,
     "start_time": "2025-04-15T01:58:29.671878",
     "status": "completed"
    },
    "tags": []
   },
   "source": [
    "---\n",
    "\n",
    "## Powering Semantic Search\n",
    "\n",
    "To let the agent find similar headlines, we turned each one into embeddings using HuggingFace:"
   ]
  },
  {
   "cell_type": "markdown",
   "id": "0076faeb",
   "metadata": {
    "papermill": {
     "duration": 0.003341,
     "end_time": "2025-04-15T01:58:29.682006",
     "exception": false,
     "start_time": "2025-04-15T01:58:29.678665",
     "status": "completed"
    },
    "tags": []
   },
   "source": [
    "```python\n",
    "from langchain.embeddings import HuggingFaceEmbeddings\n",
    "from langchain.vectorstores import FAISS\n",
    "\n",
    "embedder = HuggingFaceEmbeddings()\n",
    "db = FAISS.from_texts(headlines, embedding=embedder)"
   ]
  },
  {
   "cell_type": "markdown",
   "id": "c9ec4c20",
   "metadata": {
    "papermill": {
     "duration": 0.003323,
     "end_time": "2025-04-15T01:58:29.688774",
     "exception": false,
     "start_time": "2025-04-15T01:58:29.685451",
     "status": "completed"
    },
    "tags": []
   },
   "source": [
    "> 💡 This lets us search by **meaning** instead of just keywords."
   ]
  },
  {
   "cell_type": "markdown",
   "id": "b3af39ca",
   "metadata": {
    "papermill": {
     "duration": 0.003378,
     "end_time": "2025-04-15T01:58:29.695641",
     "exception": false,
     "start_time": "2025-04-15T01:58:29.692263",
     "status": "completed"
    },
    "tags": []
   },
   "source": [
    "---\n",
    "\n",
    "## LangChain Agent in Action\n",
    "\n",
    "We wired up an AI agent that retrieves similar news and asks Gemini for a summary:"
   ]
  },
  {
   "cell_type": "markdown",
   "id": "c1246a2e",
   "metadata": {
    "papermill": {
     "duration": 0.003327,
     "end_time": "2025-04-15T01:58:29.702429",
     "exception": false,
     "start_time": "2025-04-15T01:58:29.699102",
     "status": "completed"
    },
    "tags": []
   },
   "source": [
    "```python\n",
    "tools = [search_headlines_tool]\n",
    "agent = initialize_agent(tools, llm=gemini_model, agent_type=\"chat-zero-shot-react-description\")\n",
    "\n",
    "response = agent.run(\"Summarize the sentiment across today's crypto headlines.\")\n",
    "```"
   ]
  },
  {
   "cell_type": "markdown",
   "id": "2a46bf98",
   "metadata": {
    "papermill": {
     "duration": 0.003702,
     "end_time": "2025-04-15T01:58:29.709544",
     "exception": false,
     "start_time": "2025-04-15T01:58:29.705842",
     "status": "completed"
    },
    "tags": []
   },
   "source": [
    "> 💡 This allows the AI to behave like a true **crypto analyst assistant**."
   ]
  },
  {
   "cell_type": "markdown",
   "id": "90cff0a2",
   "metadata": {
    "papermill": {
     "duration": 0.003335,
     "end_time": "2025-04-15T01:58:29.716386",
     "exception": false,
     "start_time": "2025-04-15T01:58:29.713051",
     "status": "completed"
    },
    "tags": []
   },
   "source": [
    "---\n",
    "\n",
    "## Sample Output\n",
    "\n",
    "Here’s what the agent sees and returns:"
   ]
  },
  {
   "cell_type": "markdown",
   "id": "b2c33b58",
   "metadata": {
    "papermill": {
     "duration": 0.003541,
     "end_time": "2025-04-15T01:58:29.723700",
     "exception": false,
     "start_time": "2025-04-15T01:58:29.720159",
     "status": "completed"
    },
    "tags": []
   },
   "source": [
    "> **Headline:** “Bitcoin rebounds 12% after ETF approval”  \n",
    "> **Sentiment:** Positive  \n",
    "> **Agent Insight:** “Market shows bullish recovery, likely continuation over next 48 hours.”"
   ]
  },
  {
   "cell_type": "markdown",
   "id": "dc65d438",
   "metadata": {
    "papermill": {
     "duration": 0.003445,
     "end_time": "2025-04-15T01:58:29.731768",
     "exception": false,
     "start_time": "2025-04-15T01:58:29.728323",
     "status": "completed"
    },
    "tags": []
   },
   "source": [
    "<details>\n",
    "<summary>📘 API Best Practices: Rate Limiting & Throttling</summary>\n",
    "\n",
    "To avoid hitting API limits from NewsData.io, we added basic throttling:\n",
    "- Only a few headlines are fetched per request\n",
    "- We use time delays (`sleep`) between batches\n",
    "- All headlines are saved locally after fetching to avoid repeat requests\n",
    "\n",
    "This helps keep the service stable and our workflow reproducible.\n",
    "\n",
    "</details>\n"
   ]
  },
  {
   "cell_type": "markdown",
   "id": "92c6768c",
   "metadata": {
    "papermill": {
     "duration": 0.003435,
     "end_time": "2025-04-15T01:58:29.738799",
     "exception": false,
     "start_time": "2025-04-15T01:58:29.735364",
     "status": "completed"
    },
    "tags": []
   },
   "source": [
    "<details>\n",
    "<summary>📘 Turning Headlines into a Summary</summary>\n",
    "\n",
    "We used natural language processing (NLP) to:\n",
    "- Pull in raw headlines\n",
    "- Classify each one (positive, neutral, negative)\n",
    "- Prompt Gemini to explain the market mood\n",
    "\n",
    "The final output is a readable report showing sentiment + insight — almost like a crypto weather forecast.\n",
    "\n",
    "</details>\n"
   ]
  },
  {
   "cell_type": "markdown",
   "id": "b63fc5b0",
   "metadata": {
    "_cell_guid": "732059d3-2ec4-4472-9426-175e0ca907ff",
    "_uuid": "517ed870-9309-4461-83f9-20c1f8ce055e",
    "collapsed": false,
    "jupyter": {
     "outputs_hidden": false
    },
    "papermill": {
     "duration": 0.003369,
     "end_time": "2025-04-15T01:58:29.745694",
     "exception": false,
     "start_time": "2025-04-15T01:58:29.742325",
     "status": "completed"
    },
    "tags": []
   },
   "source": [
    "## What Makes It an *Agent* (vs. a Script)?\n",
    "\n",
    "| **Script** | **Agent** |\n",
    "|------------|-----------|\n",
    "| Executes a fixed set of instructions | Decides *how* to solve a task based on context |\n",
    "| Doesn’t adapt or choose between tools | Can select tools (like search or summarization) dynamically |\n",
    "| No memory or decision-making | Can use **memory**, **reasoning**, and **tool calls** |\n",
    "| Usually 1 prompt or pipeline | Uses a loop of thought: prompt → decide → act → repeat |\n",
    "\n",
    "---\n",
    "\n",
    "## How LangChain Powers the Agent\n",
    "\n",
    "- **Prompt chaining**: Connects the output of one step as the input to another.\n",
    "- **Tool use**: Can dynamically call FAISS (semantic search), Gemini, or other components.\n",
    "- **Memory** (optional): Stores scratchpad of agent thoughts during processing.\n",
    "- **Decision-making**: Agent selects which actions to take, rather than following fixed steps.\n",
    "\n",
    "---\n",
    "\n",
    "## News-to-Insight Agent Workflow\n",
    "\n",
    "```md\n",
    "Crypto News → Embedding & Vector Search → Relevant Headlines → Prompt to Gemini → Summary + Sentiment → Market Insight Output\n",
    "```\n",
    "\n",
    "### Step-by-step:\n",
    "- 🔄 New crypto headlines pulled from API  \n",
    "- 🧬 Headlines embedded as vectors (semantic meaning)  \n",
    "- 🔍 LangChain **agent** performs FAISS search on query  \n",
    "- 🧠 Agent sends relevant results as a prompt to Gemini  \n",
    "- 💬 Gemini classifies tone & summarizes  \n",
    "- 📋 Final result structured into readable market insight  \n"
   ]
  },
  {
   "cell_type": "markdown",
   "id": "ba87d59f",
   "metadata": {
    "papermill": {
     "duration": 0.003457,
     "end_time": "2025-04-15T01:58:29.752693",
     "exception": false,
     "start_time": "2025-04-15T01:58:29.749236",
     "status": "completed"
    },
    "tags": []
   },
   "source": [
    "## Crypto Sentiment Agent — News + Summary\n",
    "\n",
    "Our crypto sentiment agent analyzes headlines in real time and produces a summary that helps investors understand the overall market mood. Here's how it works:\n",
    "\n",
    "---\n",
    "\n",
    "### Sentiment Analysis Function\n",
    "\n",
    "We use **TextBlob** and **Gemini** to score crypto news headlines. Each headline is tagged as:\n",
    "\n",
    "- 🟢 **Positive**\n",
    "- 🟡 **Neutral**\n",
    "- 🔴 **Negative**\n",
    "\n",
    "TextBlob assigns a polarity score, while Gemini classifies sentiment through few-shot prompting. This dual-layered approach gives us both linguistic and reasoning-based sentiment.\n",
    "\n",
    "---\n",
    "\n",
    "### Article Loop & Rate Limiting\n",
    "\n",
    "To stay within **NewsData.io** API limits, we:\n",
    "\n",
    "- Fetch headlines in **batches**\n",
    "- Apply **rate throttling** (sleep between requests)\n",
    "- Store retrieved headlines locally for testing\n",
    "\n",
    "> 💡 This ensures stable API usage without overloading the service or losing access.\n",
    "\n",
    "---\n",
    "\n",
    "### Model Output — From Raw to Readable\n",
    "\n",
    "Each unstructured headline becomes part of a structured summary using:\n",
    "\n",
    "- **Sentiment tag** (Positive/Neutral/Negative)\n",
    "- **Headline + Timestamp**\n",
    "- Gemini-generated **summary insight**\n",
    "\n",
    "We compile this into a markdown or JSON-like report, so it’s easy to read or automate.\n",
    "\n",
    "---\n",
    "\n",
    "### Why This Matters for Investors\n",
    "\n",
    "Our agent answers the big question:  \n",
    "**“Is the market feeling bullish, calm, or panicked today?”**\n",
    "\n",
    "With just a glance, users can:\n",
    "\n",
    "- Sense fear or optimism before making trades\n",
    "- Track market shifts day to day\n",
    "- Integrate sentiment into trading decisions\n",
    "\n",
    "Whether you're a casual trader or a full-time investor, this agent saves time, reduces guesswork, and builds confidence."
   ]
  },
  {
   "cell_type": "markdown",
   "id": "6f54dc7f",
   "metadata": {
    "_cell_guid": "814b4261-e2b9-4481-a1a4-f956cbda6e62",
    "_uuid": "074b0f41-f3d5-4076-8fc3-de130ba8d3ea",
    "collapsed": false,
    "jupyter": {
     "outputs_hidden": false
    },
    "papermill": {
     "duration": 0.003361,
     "end_time": "2025-04-15T01:58:29.759575",
     "exception": false,
     "start_time": "2025-04-15T01:58:29.756214",
     "status": "completed"
    },
    "tags": []
   },
   "source": [
    "🪄 _We crafted specific examples to help the model avoid generic summaries._"
   ]
  },
  {
   "cell_type": "markdown",
   "id": "dd3a57fb",
   "metadata": {
    "papermill": {
     "duration": 0.003437,
     "end_time": "2025-04-15T01:58:29.766464",
     "exception": false,
     "start_time": "2025-04-15T01:58:29.763027",
     "status": "completed"
    },
    "tags": []
   },
   "source": [
    "---\n",
    "\n",
    "## What's Next?\n",
    "\n",
    "We're exploring new directions for this crypto agent:\n",
    "- Adding **voice interaction** for mobile investors\n",
    "- Expanding to cover **DeFi and NFT sentiment**\n",
    "- Training on **non-English crypto headlines**\n",
    "\n",
    "We’re also testing integration with trading dashboards for **real-time alerts**.\n",
    "\n",
    "Follow our team on Kaggle and GitHub to stay updated on future releases!"
   ]
  },
  {
   "cell_type": "markdown",
   "id": "4253f2fb",
   "metadata": {
    "_cell_guid": "e6e977fe-5837-4944-9607-91b3fccdd0ec",
    "_uuid": "ce8f8b59-6396-4e81-8807-43e4b022223d",
    "collapsed": false,
    "jupyter": {
     "outputs_hidden": false
    },
    "papermill": {
     "duration": 0.003458,
     "end_time": "2025-04-15T01:58:29.773449",
     "exception": false,
     "start_time": "2025-04-15T01:58:29.769991",
     "status": "completed"
    },
    "tags": []
   },
   "source": [
    "## Final Thoughts\n",
    "\n",
    "Building this crypto sentiment agent showed us that GenAI can do more than just write headlines—it can think through them.\n",
    "\n",
    "Along the way, we laughed at haiku headlines, puzzled over French sentiment scores, and learned that great results come from *iterating, experimenting,* and failing forward.\n",
    "\n",
    "As GenAI tools grow more powerful, so will the ways we interpret markets, trends, and decisions.\n",
    "\n",
    "> _“The future of finance isn't just data—it’s intelligent context.”_\n",
    "\n",
    "Stay tuned."
   ]
  },
  {
   "cell_type": "markdown",
   "id": "1a28a31b",
   "metadata": {
    "_cell_guid": "404441d5-2a77-4305-8575-73b852e1b371",
    "_uuid": "b41bccef-ffae-4607-958a-faf83c2b0508",
    "collapsed": false,
    "jupyter": {
     "outputs_hidden": false
    },
    "papermill": {
     "duration": 0.003451,
     "end_time": "2025-04-15T01:58:29.780423",
     "exception": false,
     "start_time": "2025-04-15T01:58:29.776972",
     "status": "completed"
    },
    "tags": []
   },
   "source": [
    "## Try It Yourself\n",
    "\n",
    "Scroll down, click on the kaggle notebook to see the code in action, explore the visualizations, and let us know what you’d like to see in the next version.\n",
    "\n",
    "> Because crypto shouldn’t be complicated — it should be clear."
   ]
  },
  {
   "cell_type": "markdown",
   "id": "c4887830",
   "metadata": {
    "_cell_guid": "4d56ecca-9206-41ed-9442-6a07b4815773",
    "_uuid": "e8fa74ed-e92c-452d-b70e-7f75bb5ace26",
    "collapsed": false,
    "jupyter": {
     "outputs_hidden": false
    },
    "papermill": {
     "duration": 0.003445,
     "end_time": "2025-04-15T01:58:29.787384",
     "exception": false,
     "start_time": "2025-04-15T01:58:29.783939",
     "status": "completed"
    },
    "tags": []
   },
   "source": [
    "## Team Roles & Contributions\n",
    "\n",
    "| Team Member | Role              | Contributions                                                                 |\n",
    "|-------------|-------------------|--------------------------------------------------------------------------------|\n",
    "| Delia       | Data Engineer     | Integrated real-time Bitcoin data via API, built visual analytics, and supported the technical backbone of the sentiment dashboard. |\n",
    "| Adina       | Prompt Engineer   | Engineered and fine-tuned prompts to extract investor-relevant insights, optimized GenAI responses for clarity and tone. |\n",
    "| Raveeja     | ML Ops            | Designed the AI output pipeline, implemented structured JSON formatting, and maintained reliability of the retrieval system for GenAI analysis. |\n",
    "| Sherline    | Technical Writer  | Crafted UX-friendly explanations, wrote investor-focused blog content, and turned model output into compelling visual storytelling. |"
   ]
  },
  {
   "cell_type": "markdown",
   "id": "14c818a6",
   "metadata": {
    "_cell_guid": "b0aeceb4-b1f1-4bdd-87aa-863301080882",
    "_uuid": "2fb746c0-5378-4f5e-93bd-1e0b8f36c4af",
    "collapsed": false,
    "jupyter": {
     "outputs_hidden": false
    },
    "papermill": {
     "duration": 0.003442,
     "end_time": "2025-04-15T01:58:29.794288",
     "exception": false,
     "start_time": "2025-04-15T01:58:29.790846",
     "status": "completed"
    },
    "tags": []
   },
   "source": [
    "## Project Code Link\n",
    "\n",
    "- [Kaggle Notebook – Click Here](https://www.kaggle.com/code/deliag18/cryptocurrency-analysis-kaggle-capstone)"
   ]
  },
  {
   "cell_type": "markdown",
   "id": "ddc82f26",
   "metadata": {
    "_cell_guid": "8403ae95-73f3-4962-851e-175b43448a06",
    "_uuid": "fbb63215-4ddf-4560-b4f0-0cc4099f0e3d",
    "collapsed": false,
    "jupyter": {
     "outputs_hidden": false
    },
    "papermill": {
     "duration": 0.003416,
     "end_time": "2025-04-15T01:58:29.801232",
     "exception": false,
     "start_time": "2025-04-15T01:58:29.797816",
     "status": "completed"
    },
    "tags": []
   },
   "source": [
    "## Connect with Us\n",
    "\n",
    "We're aspiring data scientists excited about using AI to solve real-world problems — especially in fast-paced spaces like crypto. If you're learning too or just curious about our journey, feel free to connect with us!\n",
    "\n",
    "- **Delia** (Project Manager and Data Engineering)  \n",
    "  [Kaggle](https://www.kaggle.com/deliag18) | [LinkedIn](https://www.linkedin.com/in/delia-green-mbs-a442b734/)\n",
    "\n",
    "- **Adina** (Business and Data Intellgence)  \n",
    "  [Kaggle](https://www.kaggle.com/adinakanapina) | [LinkedIn](https://www.linkedin.com/in/adina-kanapina/)\n",
    "\n",
    "- **Raveeja** (Early PhD Candidate for Data Science)  \n",
    "  [Kaggle](https://www.kaggle.com/raveejad) | [LinkedIn](https://www.linkedin.com/in/raveejadeshpande/)\n",
    "\n",
    "- **Sherline** (Learning data engineering & cybersecurity)  \n",
    "  [Kaggle](https://www.kaggle.com/sherlineherold) | [LinkedIn](https://www.linkedin.com/in/herolds/)"
   ]
  },
  {
   "cell_type": "markdown",
   "id": "bf0d6c44",
   "metadata": {
    "_cell_guid": "8f15c8df-db85-464b-92c1-e214101ebfd2",
    "_uuid": "f9fb918b-6554-412c-8c16-90c0d8dcd2ac",
    "collapsed": false,
    "jupyter": {
     "outputs_hidden": false
    },
    "papermill": {
     "duration": 0.003458,
     "end_time": "2025-04-15T01:58:29.808226",
     "exception": false,
     "start_time": "2025-04-15T01:58:29.804768",
     "status": "completed"
    },
    "tags": []
   },
   "source": [
    "---\n",
    "\n",
    "### _Built with passion by Team SAGE_  \n",
    "💬 _\"Let your agent decode the chaos.\"_"
   ]
  },
  {
   "cell_type": "markdown",
   "id": "19ab6fe7",
   "metadata": {
    "papermill": {
     "duration": 0.003346,
     "end_time": "2025-04-15T01:58:29.815108",
     "exception": false,
     "start_time": "2025-04-15T01:58:29.811762",
     "status": "completed"
    },
    "tags": []
   },
   "source": [
    "## Acknowledgments\n",
    "\n",
    "Special thanks to [Google Cloud](https://cloud.google.com/) and [Kaggle](https://www.kaggle.com/) for powering the GenAI Capstone and providing access to state-of-the-art tools."
   ]
  }
 ],
 "metadata": {
  "kaggle": {
   "accelerator": "none",
   "dataSources": [],
   "isGpuEnabled": false,
   "isInternetEnabled": true,
   "language": "python",
   "sourceType": "notebook"
  },
  "kernelspec": {
   "display_name": "Python 3",
   "language": "python",
   "name": "python3"
  },
  "language_info": {
   "codemirror_mode": {
    "name": "ipython",
    "version": 3
   },
   "file_extension": ".py",
   "mimetype": "text/x-python",
   "name": "python",
   "nbconvert_exporter": "python",
   "pygments_lexer": "ipython3",
   "version": "3.11.11"
  },
  "papermill": {
   "default_parameters": {},
   "duration": 4.579395,
   "end_time": "2025-04-15T01:58:30.035974",
   "environment_variables": {},
   "exception": null,
   "input_path": "__notebook__.ipynb",
   "output_path": "__notebook__.ipynb",
   "parameters": {},
   "start_time": "2025-04-15T01:58:25.456579",
   "version": "2.6.0"
  }
 },
 "nbformat": 4,
 "nbformat_minor": 5
}
