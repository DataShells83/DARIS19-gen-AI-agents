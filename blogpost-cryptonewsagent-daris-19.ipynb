{
 "cells": [
  {
   "cell_type": "markdown",
   "id": "702b8f3d",
   "metadata": {
    "_cell_guid": "6cb436e5-f248-4f0d-85fc-caf9cd4b1209",
    "_uuid": "16626e54-5326-4c50-b5af-cd932b099bff",
    "collapsed": false,
    "jupyter": {
     "outputs_hidden": false
    },
    "papermill": {
     "duration": 0.004751,
     "end_time": "2025-04-15T01:47:13.031998",
     "exception": false,
     "start_time": "2025-04-15T01:47:13.027247",
     "status": "completed"
    },
    "tags": []
   },
   "source": [
    "# 🚀 Real-Time Crypto News Agent: Detecting Market Sentiment with GenAI\n",
    "\n",
    "> 🧠 This GenAI agent reads crypto news in real-time and summarizes market sentiment — so you can make smarter trades, faster.\n",
    "\n",
    "![Crypto Banner](https://www.kaggle.com/datasets/sherlineherold/cryptonews?select=Crypto+Banner_001.jpg)\n",
    "\n",
    "**👥 Team SAGE (Sentiment Agents for Global Events)**   \n",
    "[Delia](https://www.kaggle.com/deliag18) (Project Lead, Data Engineer) ·  \n",
    "[Adina](https://www.kaggle.com/adinakanapina) (Prompt Engineer) ·  \n",
    "[Raveeja](https://www.kaggle.com/raveejad) (ML Ops) ·  \n",
    "[Sherline](https://www.kaggle.com/sherlineherold) (Technical Writer)\n",
    "\n",
    "🗓️ April 2025 | 🧠 [GenAI Intensive Course with Google & Kaggle](https://www.kaggle.com/competitions/gen-ai-intensive-course-capstone-2025q1)"
   ]
  },
  {
   "cell_type": "markdown",
   "id": "0451120a",
   "metadata": {
    "_cell_guid": "329774ff-3809-4905-a6ec-fe265c7673d5",
    "_uuid": "379aba4a-b155-451a-86b9-a8f45a4eadeb",
    "collapsed": false,
    "jupyter": {
     "outputs_hidden": false
    },
    "papermill": {
     "duration": 0.003454,
     "end_time": "2025-04-15T01:47:13.039465",
     "exception": false,
     "start_time": "2025-04-15T01:47:13.036011",
     "status": "completed"
    },
    "tags": []
   },
   "source": [
    "## 🎯 Project Hook: Why We Built This\n",
    "\n",
    "> \"Imagine your crypto dashboard came with a whispering AI analyst that could sense market mood shifts before your portfolio feels it.\"\n",
    ">\n",
    "In the fast-moving world of crypto, staying ahead of market sentiment can feel overwhelming—especially for first-time or busy investors.  \n",
    "\n",
    "That’s why we created a **real-time crypto news agent** that acts like your personal AI analyst. It automatically scans the latest headlines, reads the emotional tone behind the news, and delivers quick, digestible summaries with visual insights.  \n",
    "\n",
    "Whether you’re checking in between meetings or making your first trade, our tool helps you cut through the noise and make informed decisions—faster.\n",
    "\n",
    "Our team set out to build an intelligent news agent that:\n",
    "- **Scans** the latest crypto headlines\n",
    "- **Analyzes sentiment** in real-time\n",
    "- **Summarizes news** with natural language\n",
    "- **Visualizes market insights** for daily decision-making"
   ]
  },
  {
   "cell_type": "markdown",
   "id": "64e2fdc2",
   "metadata": {
    "_cell_guid": "5276e9f6-e02a-426c-8e3a-9a749cbb71eb",
    "_uuid": "1375a084-b398-4896-9111-0578ee758ffd",
    "collapsed": false,
    "jupyter": {
     "outputs_hidden": false
    },
    "papermill": {
     "duration": 0.003464,
     "end_time": "2025-04-15T01:47:13.046451",
     "exception": false,
     "start_time": "2025-04-15T01:47:13.042987",
     "status": "completed"
    },
    "tags": []
   },
   "source": [
    "## 📊 Bitcoin Price Trend with 7-Day Moving Average\n",
    "\n",
    "![7-Day Moving Average](../input/cryptonews/7-Day Moving Average.jpeg)\n",
    "\n",
    "\n",
    "This line graph visualizes the daily closing price of Bitcoin from **March 25 to April 8, 2025**, alongside a **7-day moving average** (orange dashed line). The moving average helps smooth out short-term price fluctuations and highlights broader trends.\n",
    "\n",
    "**🧠 Key Insights:**\n",
    "- BTC price rose steadily from ~$70,000 to a peak of ~$84,000.\n",
    "- A sharp decline occurred around **April 5**, signaling a market shift or external event.\n",
    "- The moving average maintained an upward trend, suggesting sustained bullish sentiment prior to the dip.\n",
    "\n",
    "> 💡 *Code snippet used to generate this chart added below.*"
   ]
  },
  {
   "cell_type": "markdown",
   "id": "5dbcf078",
   "metadata": {
    "_cell_guid": "ec5e07a3-2abf-4570-94d6-88495ad525b1",
    "_uuid": "ec3312cc-3f65-41c2-b473-4670a382bcec",
    "collapsed": false,
    "jupyter": {
     "outputs_hidden": false
    },
    "papermill": {
     "duration": 0.003487,
     "end_time": "2025-04-15T01:47:13.053453",
     "exception": false,
     "start_time": "2025-04-15T01:47:13.049966",
     "status": "completed"
    },
    "tags": []
   },
   "source": [
    "## 📊 BTC Daily Return vs. Volatility?\n",
    "\n",
    "![BTC Daily Return vs Volatility](https://www.kaggle.com/datasets/sherlineherold/cryptonews?select=BTC+Daily+Return+vs+Volatility.jpeg)\n",
    "\n",
    "This dual-axis graph compares **daily return percentage** (blue line, left Y-axis) with **rolling volatility** (red dashed line, right Y-axis) over time.\n",
    "\n",
    "**📌 What This Tells Us:**\n",
    "- BTC saw mostly positive returns until a major dip on **April 5** (nearly -6%).\n",
    "- Volatility spiked sharply afterward, peaking at **3.6**, suggesting increased market uncertainty.\n",
    "- This view is essential for assessing both profitability and risk levels in crypto trading.\n",
    "\n",
    "> 💡 *Code used to compute and visualize these metrics will be included below.*"
   ]
  },
  {
   "cell_type": "markdown",
   "id": "068c1d88",
   "metadata": {
    "_cell_guid": "1e40b9f1-1bf2-492d-ba40-c2cb1be6ab1c",
    "_uuid": "b5cff8ff-34d0-4f6c-953e-5a3d8cf5f373",
    "collapsed": false,
    "jupyter": {
     "outputs_hidden": false
    },
    "papermill": {
     "duration": 0.003408,
     "end_time": "2025-04-15T01:47:13.060417",
     "exception": false,
     "start_time": "2025-04-15T01:47:13.057009",
     "status": "completed"
    },
    "tags": []
   },
   "source": [
    "## 📊 Sentiment Classification of Crypto News Headlines\n",
    "\n",
    "![Crypto News Sentiment](https://www.kaggle.com/datasets/sherlineherold/cryptonews?select=Sentiment+Classification.jpeg)\n",
    "\n",
    "This horizontal bar chart shows how major crypto news headlines were classified by sentiment: **Positive (green), Negative (orange), and Neutral (blue)**.\n",
    "\n",
    "**📊 Observations:**\n",
    "- News with words like \"bloodbath,\" \"plunge,\" or \"crash\" dominated the **Negative** sentiment group.\n",
    "- Only a few stories showed optimism (e.g., altcoin season or new technology trends).\n",
    "- Understanding headline sentiment helps contextualize market behavior and identify emotional drivers of price movement.\n",
    "\n",
    "> 💡 *This analysis was powered by NLP tools like VADER, TextBlob, and RoBERTa.*"
   ]
  },
  {
   "cell_type": "markdown",
   "id": "eecafa2f",
   "metadata": {
    "_cell_guid": "31d64749-2a64-4c6d-b898-4ef364d44afb",
    "_uuid": "919319ee-0685-4cb7-a247-46070e5caf72",
    "collapsed": false,
    "jupyter": {
     "outputs_hidden": false
    },
    "papermill": {
     "duration": 0.003437,
     "end_time": "2025-04-15T01:47:13.067339",
     "exception": false,
     "start_time": "2025-04-15T01:47:13.063902",
     "status": "completed"
    },
    "tags": []
   },
   "source": [
    "## 🎯 BTS: How It Works\n",
    "\n",
    "These GenAI capabilities power the intelligence behind our crypto agent—automating research, spotting sentiment trends, and delivering insights in seconds.  \n",
    "\n",
    "It’s like having a full-time analyst in your pocket, built with cutting-edge AI.\n",
    "\n",
    "<details>\n",
    "<summary>🧠 (click here) WHAT'S BEHIND THE AI: GenAI Terms Made Simple</summary>\n",
    "\n",
    "Curious how our AI agent works behind the scenes? Here are a few beginner-friendly terms that explain what powers this crypto tool:\n",
    "\n",
    "| **Capability** | **Tools Used** | **Beginner-Friendly Explanation** | **Why We Used It** |\n",
    "|---|---|---|---|\n",
    "| Structured Output / JSON Mode / Controlled Generation | Gemini, Jupyter Notebook | When AI gives its answers in a fixed, easy-to-read format (like filling out a form). JSON is a format like a digital form used to organize info neatly. | Used to classify sentiment labels (Positive/Negative/Neutral) and structure the final report output. |\n",
    "| Few-shot Prompting | Gemini | Giving the AI a few examples so it understands how to do the task — like showing a student a few math problems before they try one. | Used to guide headline sentiment classification in consistent formats. |\n",
    "| Document Understanding | Gemini, NewsData.io API | The AI reads a document and figures out what it means — who it's from, what it’s about, etc. | Used to extract and analyze the sentiment and content of news headlines. |\n",
    "| Image Understanding | N/A | The AI looks at a picture and tells you what’s in it — e.g., “A photo of a dog in a park.” | Not used in this project. |\n",
    "| Video Understanding | N/A | The AI watches a video and explains what's happening — e.g., “A person walking through a grocery store.” | Not used in this project. |\n",
    "| Audio Understanding | N/A | The AI listens to music or speech and figures out what’s being said or played. | Not used in this project. |\n",
    "| Function Calling | LangChain, Gemini, FAISS | The AI can call tools or programs to help it do tasks — like asking a calendar app to schedule a meeting. | Used to retrieve relevant news headlines from vector store via search function. |\n",
    "| Agents | LangChain, FAISS, Gemini | A smart assistant made of multiple AI tools working together. It can plan steps and complete tasks. | LangChain Agent coordinated prompt, vector search, and Gemini output. |\n",
    "| Long Context Window | Gemini | How much the AI can “remember” at once — helpful for long documents or chats. | Used to classify multiple headlines at once without forgetting earlier content. |\n",
    "| Context Caching | LangChain | Saves earlier conversation parts so the AI doesn’t have to re-read every time. | Used in the LangChain scratchpad to maintain agent history. |\n",
    "| GenAI Evaluation | Gemini, TextBlob | Tests how well the AI performs (e.g., helpfulness, accuracy, safety). | Used to compare headline sentiment via Gemini and TextBlob. |\n",
    "| Grounding | FAISS, LangChain | Ensures the AI's answers are based on real facts. | Used to ground Gemini’s answers in retrieved crypto headlines. |\n",
    "| Embeddings | HuggingFace, FAISS | Turns words into numbers to understand meaning and find related things. | Used to convert headlines into searchable vectors. |\n",
    "| Retrieval Augmented Generation (RAG) | LangChain, FAISS, Gemini | AI retrieves real documents before answering — like open-book homework. | Used to search headlines and generate summaries using grounded sources. |\n",
    "| Vector Search / Vector Store / Vector Database | FAISS, LangChain | Searches by meaning (not just keywords) using stored vector representations. | Used to retrieve similar headlines efficiently. |\n",
    "| MLOps (with GenAI) | Python, Jupyter Notebook | Tools and processes that help teams launch and manage AI systems. | Used lightly to automate structured report generation and exports. |\n",
    "\n",
    "</details>\n"
   ]
  },
  {
   "cell_type": "markdown",
   "id": "778fb2f8",
   "metadata": {
    "papermill": {
     "duration": 0.003428,
     "end_time": "2025-04-15T01:47:13.074223",
     "exception": false,
     "start_time": "2025-04-15T01:47:13.070795",
     "status": "completed"
    },
    "tags": []
   },
   "source": [
    "## 🧠 How We Prompted Gemini\n",
    "\n",
    "We used few-shot prompting to make sure Gemini classified crypto headlines consistently:"
   ]
  },
  {
   "cell_type": "code",
   "execution_count": 1,
   "id": "124b9e65",
   "metadata": {
    "execution": {
     "iopub.execute_input": "2025-04-15T01:47:13.082449Z",
     "iopub.status.busy": "2025-04-15T01:47:13.082169Z",
     "iopub.status.idle": "2025-04-15T01:47:13.088649Z",
     "shell.execute_reply": "2025-04-15T01:47:13.087970Z"
    },
    "papermill": {
     "duration": 0.011952,
     "end_time": "2025-04-15T01:47:13.089691",
     "exception": false,
     "start_time": "2025-04-15T01:47:13.077739",
     "status": "completed"
    },
    "tags": []
   },
   "outputs": [],
   "source": [
    "examples = [\n",
    "    \"Headline: Bitcoin surges 10% on ETF approval news. Sentiment: Positive\",\n",
    "    \"Headline: Crypto exchange faces SEC lawsuit. Sentiment: Negative\",\n",
    "    \"Headline: Ethereum holds steady amid market uncertainty. Sentiment: Neutral\"\n",
    "]\n",
    "\n",
    "new_headline = \"Bitcoin drops after major exchange outage\"\n",
    "\n",
    "prompt = \"\\n\".join(examples) + f\"\\nHeadline: {new_headline}\\nSentiment:\""
   ]
  },
  {
   "cell_type": "markdown",
   "id": "64035386",
   "metadata": {
    "papermill": {
     "duration": 0.003497,
     "end_time": "2025-04-15T01:47:13.096770",
     "exception": false,
     "start_time": "2025-04-15T01:47:13.093273",
     "status": "completed"
    },
    "tags": []
   },
   "source": [
    "> 💡 This gives Gemini a few labeled examples so it knows how to respond."
   ]
  },
  {
   "cell_type": "markdown",
   "id": "deb8974a",
   "metadata": {
    "papermill": {
     "duration": 0.003371,
     "end_time": "2025-04-15T01:47:13.103632",
     "exception": false,
     "start_time": "2025-04-15T01:47:13.100261",
     "status": "completed"
    },
    "tags": []
   },
   "source": [
    "---\n",
    "\n",
    "## 🔍 Powering Semantic Search\n",
    "\n",
    "To let the agent find similar headlines, we turned each one into embeddings using HuggingFace:"
   ]
  },
  {
   "cell_type": "markdown",
   "id": "5a87090e",
   "metadata": {
    "papermill": {
     "duration": 0.003677,
     "end_time": "2025-04-15T01:47:13.110740",
     "exception": false,
     "start_time": "2025-04-15T01:47:13.107063",
     "status": "completed"
    },
    "tags": []
   },
   "source": [
    "```python\n",
    "from langchain.embeddings import HuggingFaceEmbeddings\n",
    "from langchain.vectorstores import FAISS\n",
    "\n",
    "embedder = HuggingFaceEmbeddings()\n",
    "db = FAISS.from_texts(headlines, embedding=embedder)"
   ]
  },
  {
   "cell_type": "markdown",
   "id": "c901d3a3",
   "metadata": {
    "papermill": {
     "duration": 0.003375,
     "end_time": "2025-04-15T01:47:13.117612",
     "exception": false,
     "start_time": "2025-04-15T01:47:13.114237",
     "status": "completed"
    },
    "tags": []
   },
   "source": [
    "> 💡 This lets us search by **meaning** instead of just keywords."
   ]
  },
  {
   "cell_type": "markdown",
   "id": "7e9b20e1",
   "metadata": {
    "papermill": {
     "duration": 0.003411,
     "end_time": "2025-04-15T01:47:13.124538",
     "exception": false,
     "start_time": "2025-04-15T01:47:13.121127",
     "status": "completed"
    },
    "tags": []
   },
   "source": [
    "---\n",
    "\n",
    "## 🛠️ LangChain Agent in Action\n",
    "\n",
    "We wired up an AI agent that retrieves similar news and asks Gemini for a summary:"
   ]
  },
  {
   "cell_type": "markdown",
   "id": "7573d616",
   "metadata": {
    "papermill": {
     "duration": 0.003531,
     "end_time": "2025-04-15T01:47:13.131561",
     "exception": false,
     "start_time": "2025-04-15T01:47:13.128030",
     "status": "completed"
    },
    "tags": []
   },
   "source": [
    "```python\n",
    "tools = [search_headlines_tool]\n",
    "agent = initialize_agent(tools, llm=gemini_model, agent_type=\"chat-zero-shot-react-description\")\n",
    "\n",
    "response = agent.run(\"Summarize the sentiment across today's crypto headlines.\")\n",
    "```"
   ]
  },
  {
   "cell_type": "markdown",
   "id": "28f876d7",
   "metadata": {
    "papermill": {
     "duration": 0.003472,
     "end_time": "2025-04-15T01:47:13.138530",
     "exception": false,
     "start_time": "2025-04-15T01:47:13.135058",
     "status": "completed"
    },
    "tags": []
   },
   "source": [
    "> 💡 This allows the AI to behave like a true **crypto analyst assistant**."
   ]
  },
  {
   "cell_type": "markdown",
   "id": "e35bd92a",
   "metadata": {
    "papermill": {
     "duration": 0.003441,
     "end_time": "2025-04-15T01:47:13.145498",
     "exception": false,
     "start_time": "2025-04-15T01:47:13.142057",
     "status": "completed"
    },
    "tags": []
   },
   "source": [
    "---\n",
    "\n",
    "## 🧾 Sample Output\n",
    "\n",
    "Here’s what the agent sees and returns:"
   ]
  },
  {
   "cell_type": "markdown",
   "id": "383efd97",
   "metadata": {
    "papermill": {
     "duration": 0.003787,
     "end_time": "2025-04-15T01:47:13.152825",
     "exception": false,
     "start_time": "2025-04-15T01:47:13.149038",
     "status": "completed"
    },
    "tags": []
   },
   "source": [
    "> **Headline:** “Bitcoin rebounds 12% after ETF approval”  \n",
    "> **Sentiment:** Positive  \n",
    "> **Agent Insight:** “Market shows bullish recovery, likely continuation over next 48 hours.”"
   ]
  },
  {
   "cell_type": "markdown",
   "id": "2a8223a4",
   "metadata": {
    "papermill": {
     "duration": 0.003744,
     "end_time": "2025-04-15T01:47:13.160147",
     "exception": false,
     "start_time": "2025-04-15T01:47:13.156403",
     "status": "completed"
    },
    "tags": []
   },
   "source": [
    "<details>\n",
    "<summary>📘 API Best Practices: Rate Limiting & Throttling</summary>\n",
    "\n",
    "To avoid hitting API limits from NewsData.io, we added basic throttling:\n",
    "- Only a few headlines are fetched per request\n",
    "- We use time delays (`sleep`) between batches\n",
    "- All headlines are saved locally after fetching to avoid repeat requests\n",
    "\n",
    "This helps keep the service stable and our workflow reproducible.\n",
    "\n",
    "</details>\n"
   ]
  },
  {
   "cell_type": "markdown",
   "id": "98b65171",
   "metadata": {
    "papermill": {
     "duration": 0.00346,
     "end_time": "2025-04-15T01:47:13.167190",
     "exception": false,
     "start_time": "2025-04-15T01:47:13.163730",
     "status": "completed"
    },
    "tags": []
   },
   "source": [
    "<details>\n",
    "<summary>📘 Turning Headlines into a Summary</summary>\n",
    "\n",
    "We used natural language processing (NLP) to:\n",
    "- Pull in raw headlines\n",
    "- Classify each one (positive, neutral, negative)\n",
    "- Prompt Gemini to explain the market mood\n",
    "\n",
    "The final output is a readable report showing sentiment + insight — almost like a crypto weather forecast.\n",
    "\n",
    "</details>\n"
   ]
  },
  {
   "cell_type": "markdown",
   "id": "586b37e4",
   "metadata": {
    "_cell_guid": "732059d3-2ec4-4472-9426-175e0ca907ff",
    "_uuid": "517ed870-9309-4461-83f9-20c1f8ce055e",
    "collapsed": false,
    "jupyter": {
     "outputs_hidden": false
    },
    "papermill": {
     "duration": 0.004614,
     "end_time": "2025-04-15T01:47:13.175379",
     "exception": false,
     "start_time": "2025-04-15T01:47:13.170765",
     "status": "completed"
    },
    "tags": []
   },
   "source": [
    "## 🧠 What Makes It an *Agent* (vs. a Script)?\n",
    "\n",
    "| **Script** | **Agent** |\n",
    "|------------|-----------|\n",
    "| Executes a fixed set of instructions | Decides *how* to solve a task based on context |\n",
    "| Doesn’t adapt or choose between tools | Can select tools (like search or summarization) dynamically |\n",
    "| No memory or decision-making | Can use **memory**, **reasoning**, and **tool calls** |\n",
    "| Usually 1 prompt or pipeline | Uses a loop of thought: prompt → decide → act → repeat |\n",
    "\n",
    "---\n",
    "\n",
    "## 🧩 How LangChain Powers the Agent\n",
    "\n",
    "- **Prompt chaining**: Connects the output of one step as the input to another.\n",
    "- **Tool use**: Can dynamically call FAISS (semantic search), Gemini, or other components.\n",
    "- **Memory** (optional): Stores scratchpad of agent thoughts during processing.\n",
    "- **Decision-making**: Agent selects which actions to take, rather than following fixed steps.\n",
    "\n",
    "---\n",
    "\n",
    "## 🔗 News-to-Insight Agent Workflow\n",
    "\n",
    "```md\n",
    "📥 Crypto News → 🧠 Embedding & Vector Search → 🔍 Relevant Headlines → 🗣️ Prompt to Gemini → 🧾 Summary + Sentiment → 📊 Market Insight Output\n",
    "```\n",
    "\n",
    "### Step-by-step:\n",
    "- 🔄 New crypto headlines pulled from API  \n",
    "- 🧬 Headlines embedded as vectors (semantic meaning)  \n",
    "- 🔍 LangChain **agent** performs FAISS search on query  \n",
    "- 🧠 Agent sends relevant results as a prompt to Gemini  \n",
    "- 💬 Gemini classifies tone & summarizes  \n",
    "- 📋 Final result structured into readable market insight  \n"
   ]
  },
  {
   "cell_type": "markdown",
   "id": "e16e8764",
   "metadata": {
    "papermill": {
     "duration": 0.003571,
     "end_time": "2025-04-15T01:47:13.183054",
     "exception": false,
     "start_time": "2025-04-15T01:47:13.179483",
     "status": "completed"
    },
    "tags": []
   },
   "source": [
    "## 🧠 Crypto Sentiment Agent — News + Summary\n",
    "\n",
    "Our crypto sentiment agent analyzes headlines in real time and produces a summary that helps investors understand the overall market mood. Here's how it works:\n",
    "\n",
    "---\n",
    "\n",
    "### 🧪 Sentiment Analysis Function\n",
    "\n",
    "We use **TextBlob** and **Gemini** to score crypto news headlines. Each headline is tagged as:\n",
    "\n",
    "- 🟢 **Positive**\n",
    "- 🟡 **Neutral**\n",
    "- 🔴 **Negative**\n",
    "\n",
    "TextBlob assigns a polarity score, while Gemini classifies sentiment through few-shot prompting. This dual-layered approach gives us both linguistic and reasoning-based sentiment.\n",
    "\n",
    "---\n",
    "\n",
    "### 🔁 Article Loop & Rate Limiting\n",
    "\n",
    "To stay within **NewsData.io** API limits, we:\n",
    "\n",
    "- Fetch headlines in **batches**\n",
    "- Apply **rate throttling** (sleep between requests)\n",
    "- Store retrieved headlines locally for testing\n",
    "\n",
    "> 💡 This ensures stable API usage without overloading the service or losing access.\n",
    "\n",
    "---\n",
    "\n",
    "### 🧾 Model Output — From Raw to Readable\n",
    "\n",
    "Each unstructured headline becomes part of a structured summary using:\n",
    "\n",
    "- **Sentiment tag** (Positive/Neutral/Negative)\n",
    "- **Headline + Timestamp**\n",
    "- Gemini-generated **summary insight**\n",
    "\n",
    "We compile this into a markdown or JSON-like report, so it’s easy to read or automate.\n",
    "\n",
    "---\n",
    "\n",
    "### 📊 Why This Matters for Investors\n",
    "\n",
    "Our agent answers the big question:  \n",
    "**“Is the market feeling bullish, calm, or panicked today?”**\n",
    "\n",
    "With just a glance, users can:\n",
    "\n",
    "- Sense fear or optimism before making trades\n",
    "- Track market shifts day to day\n",
    "- Integrate sentiment into trading decisions\n",
    "\n",
    "Whether you're a casual trader or a full-time investor, this agent saves time, reduces guesswork, and builds confidence."
   ]
  },
  {
   "cell_type": "markdown",
   "id": "95174f44",
   "metadata": {
    "_cell_guid": "814b4261-e2b9-4481-a1a4-f956cbda6e62",
    "_uuid": "074b0f41-f3d5-4076-8fc3-de130ba8d3ea",
    "collapsed": false,
    "jupyter": {
     "outputs_hidden": false
    },
    "papermill": {
     "duration": 0.003396,
     "end_time": "2025-04-15T01:47:13.189985",
     "exception": false,
     "start_time": "2025-04-15T01:47:13.186589",
     "status": "completed"
    },
    "tags": []
   },
   "source": [
    "🪄 _We crafted specific examples to help the model avoid generic summaries._"
   ]
  },
  {
   "cell_type": "markdown",
   "id": "8614b7f5",
   "metadata": {
    "papermill": {
     "duration": 0.003488,
     "end_time": "2025-04-15T01:47:13.196992",
     "exception": false,
     "start_time": "2025-04-15T01:47:13.193504",
     "status": "completed"
    },
    "tags": []
   },
   "source": [
    "---\n",
    "\n",
    "## 🚀 What's Next?\n",
    "\n",
    "We're exploring new directions for this crypto agent:\n",
    "- Adding **voice interaction** for mobile investors\n",
    "- Expanding to cover **DeFi and NFT sentiment**\n",
    "- Training on **non-English crypto headlines**\n",
    "\n",
    "We’re also testing integration with trading dashboards for **real-time alerts**.\n",
    "\n",
    "🧠 Follow our team on Kaggle and GitHub to stay updated on future releases!"
   ]
  },
  {
   "cell_type": "markdown",
   "id": "cf77669c",
   "metadata": {
    "_cell_guid": "e6e977fe-5837-4944-9607-91b3fccdd0ec",
    "_uuid": "ce8f8b59-6396-4e81-8807-43e4b022223d",
    "collapsed": false,
    "jupyter": {
     "outputs_hidden": false
    },
    "papermill": {
     "duration": 0.003421,
     "end_time": "2025-04-15T01:47:13.203928",
     "exception": false,
     "start_time": "2025-04-15T01:47:13.200507",
     "status": "completed"
    },
    "tags": []
   },
   "source": [
    "## 🧠 Final Thoughts\n",
    "\n",
    "Building this crypto sentiment agent showed us that GenAI can do more than just write headlines—it can think through them.\n",
    "\n",
    "Along the way, we laughed at haiku headlines, puzzled over French sentiment scores, and learned that great results come from *iterating, experimenting,* and failing forward.\n",
    "\n",
    "As GenAI tools grow more powerful, so will the ways we interpret markets, trends, and decisions.\n",
    "\n",
    "> _“The future of finance isn't just data—it’s intelligent context.”_\n",
    "\n",
    "Stay tuned."
   ]
  },
  {
   "cell_type": "markdown",
   "id": "c62f5b70",
   "metadata": {
    "_cell_guid": "404441d5-2a77-4305-8575-73b852e1b371",
    "_uuid": "b41bccef-ffae-4607-958a-faf83c2b0508",
    "collapsed": false,
    "jupyter": {
     "outputs_hidden": false
    },
    "papermill": {
     "duration": 0.003452,
     "end_time": "2025-04-15T01:47:13.210928",
     "exception": false,
     "start_time": "2025-04-15T01:47:13.207476",
     "status": "completed"
    },
    "tags": []
   },
   "source": [
    "## 🧩 Try It Yourself\n",
    "\n",
    "Scroll down, click on the kaggle notebook to see the code in action, explore the visualizations, and let us know what you’d like to see in the next version.\n",
    "\n",
    "> Because crypto shouldn’t be complicated — it should be clear."
   ]
  },
  {
   "cell_type": "markdown",
   "id": "7febf975",
   "metadata": {
    "_cell_guid": "4d56ecca-9206-41ed-9442-6a07b4815773",
    "_uuid": "e8fa74ed-e92c-452d-b70e-7f75bb5ace26",
    "collapsed": false,
    "jupyter": {
     "outputs_hidden": false
    },
    "papermill": {
     "duration": 0.003406,
     "end_time": "2025-04-15T01:47:13.217853",
     "exception": false,
     "start_time": "2025-04-15T01:47:13.214447",
     "status": "completed"
    },
    "tags": []
   },
   "source": [
    "## 🧑🏽‍💻🧑🏽‍💻🧑🏽‍💻🧑🏽‍💻 Team Roles & Contributions\n",
    "\n",
    "| Team Member | Role              | Contributions                                                                 |\n",
    "|-------------|-------------------|--------------------------------------------------------------------------------|\n",
    "| Delia       | Data Engineer     | Integrated real-time Bitcoin data via API, built visual analytics, and supported the technical backbone of the sentiment dashboard. |\n",
    "| Adina       | Prompt Engineer   | Engineered and fine-tuned prompts to extract investor-relevant insights, optimized GenAI responses for clarity and tone. |\n",
    "| Raveeja     | ML Ops            | Designed the AI output pipeline, implemented structured JSON formatting, and maintained reliability of the retrieval system for GenAI analysis. |\n",
    "| Sherline    | Technical Writer  | Crafted UX-friendly explanations, wrote investor-focused blog content, and turned model output into compelling visual storytelling. |"
   ]
  },
  {
   "cell_type": "markdown",
   "id": "32e4bda4",
   "metadata": {
    "_cell_guid": "b0aeceb4-b1f1-4bdd-87aa-863301080882",
    "_uuid": "2fb746c0-5378-4f5e-93bd-1e0b8f36c4af",
    "collapsed": false,
    "jupyter": {
     "outputs_hidden": false
    },
    "papermill": {
     "duration": 0.003459,
     "end_time": "2025-04-15T01:47:13.224855",
     "exception": false,
     "start_time": "2025-04-15T01:47:13.221396",
     "status": "completed"
    },
    "tags": []
   },
   "source": [
    "## 🔗 Project Code Link\n",
    "\n",
    "- [Kaggle Notebook – Click Here](https://www.kaggle.com/code/deliag18/cryptocurrency-analysis-kaggle-capstone)"
   ]
  },
  {
   "cell_type": "markdown",
   "id": "c3a6d07d",
   "metadata": {
    "_cell_guid": "8403ae95-73f3-4962-851e-175b43448a06",
    "_uuid": "fbb63215-4ddf-4560-b4f0-0cc4099f0e3d",
    "collapsed": false,
    "jupyter": {
     "outputs_hidden": false
    },
    "papermill": {
     "duration": 0.003424,
     "end_time": "2025-04-15T01:47:13.231826",
     "exception": false,
     "start_time": "2025-04-15T01:47:13.228402",
     "status": "completed"
    },
    "tags": []
   },
   "source": [
    "## 👋 Connect with Us\n",
    "\n",
    "We're aspiring data scientists excited about using AI to solve real-world problems — especially in fast-paced spaces like crypto. If you're learning too or just curious about our journey, feel free to connect with us!\n",
    "\n",
    "- **Delia** (Project Manager and Data Engineering)  \n",
    "  [Kaggle](https://www.kaggle.com/deliag18) | [LinkedIn](https://www.linkedin.com/in/delia-green-mbs-a442b734/)\n",
    "\n",
    "- **Adina** (Business and Data Intellgence)  \n",
    "  [Kaggle](https://www.kaggle.com/adinakanapina) | [LinkedIn](https://www.linkedin.com/in/adina-kanapina/)\n",
    "\n",
    "- **Raveeja** (Early PhD Candidate for Data Science)  \n",
    "  [Kaggle](https://www.kaggle.com/raveejad) | [LinkedIn](https://www.linkedin.com/in/raveejadeshpande/)\n",
    "\n",
    "- **Sherline** (Learning data engineering & cybersecurity)  \n",
    "  [Kaggle](https://www.kaggle.com/sherlineherold) | [LinkedIn](https://www.linkedin.com/in/herolds/)"
   ]
  },
  {
   "cell_type": "markdown",
   "id": "34b59322",
   "metadata": {
    "_cell_guid": "8f15c8df-db85-464b-92c1-e214101ebfd2",
    "_uuid": "f9fb918b-6554-412c-8c16-90c0d8dcd2ac",
    "collapsed": false,
    "jupyter": {
     "outputs_hidden": false
    },
    "papermill": {
     "duration": 0.003511,
     "end_time": "2025-04-15T01:47:13.238933",
     "exception": false,
     "start_time": "2025-04-15T01:47:13.235422",
     "status": "completed"
    },
    "tags": []
   },
   "source": [
    "---\n",
    "\n",
    "### 🚀 _Built with passion by Team SAGE_  \n",
    "💬 _\"Let your agent decode the chaos.\"_"
   ]
  },
  {
   "cell_type": "markdown",
   "id": "a579f2ee",
   "metadata": {
    "papermill": {
     "duration": 0.003437,
     "end_time": "2025-04-15T01:47:13.245954",
     "exception": false,
     "start_time": "2025-04-15T01:47:13.242517",
     "status": "completed"
    },
    "tags": []
   },
   "source": [
    "## 🏁 Acknowledgments\n",
    "\n",
    "Special thanks to [Google Cloud](https://cloud.google.com/) and [Kaggle](https://www.kaggle.com/) for powering the GenAI Capstone and providing access to state-of-the-art tools."
   ]
  }
 ],
 "metadata": {
  "kaggle": {
   "accelerator": "none",
   "dataSources": [
    {
     "datasetId": 7134254,
     "sourceId": 11391810,
     "sourceType": "datasetVersion"
    },
    {
     "datasetId": 7146501,
     "sourceId": 11409417,
     "sourceType": "datasetVersion"
    }
   ],
   "isGpuEnabled": false,
   "isInternetEnabled": true,
   "language": "python",
   "sourceType": "notebook"
  },
  "kernelspec": {
   "display_name": "Python 3",
   "language": "python",
   "name": "python3"
  },
  "language_info": {
   "codemirror_mode": {
    "name": "ipython",
    "version": 3
   },
   "file_extension": ".py",
   "mimetype": "text/x-python",
   "name": "python",
   "nbconvert_exporter": "python",
   "pygments_lexer": "ipython3",
   "version": "3.11.11"
  },
  "papermill": {
   "default_parameters": {},
   "duration": 4.717436,
   "end_time": "2025-04-15T01:47:13.566596",
   "environment_variables": {},
   "exception": null,
   "input_path": "__notebook__.ipynb",
   "output_path": "__notebook__.ipynb",
   "parameters": {},
   "start_time": "2025-04-15T01:47:08.849160",
   "version": "2.6.0"
  }
 },
 "nbformat": 4,
 "nbformat_minor": 5
}
